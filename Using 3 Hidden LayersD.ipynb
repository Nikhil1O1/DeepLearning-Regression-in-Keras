{
 "cells": [
  {
   "cell_type": "markdown",
   "metadata": {
    "button": false,
    "deletable": true,
    "new_sheet": false,
    "run_control": {
     "read_only": false
    }
   },
   "source": [
    "<h1 align=center><font size = 5>Regression Models with Keras</font></h1>\n"
   ]
  },
  {
   "cell_type": "markdown",
   "metadata": {},
   "source": [
    "<h2>Regression Models with Keras</h2>\n",
    "\n",
    "<h3>Objective for this Notebook<h3>    \n",
    "<h5> 1. How to use the Keras library to build a regression model.</h5>\n",
    "<h5> 2. Download and Clean dataset </h5>\n",
    "<h5> 3. Build a Neural Network </h5>\n",
    "<h5> 4. Train and Test the Network. </h5>     \n"
   ]
  },
  {
   "cell_type": "markdown",
   "metadata": {
    "button": false,
    "deletable": true,
    "new_sheet": false,
    "run_control": {
     "read_only": false
    }
   },
   "source": [
    "## Table of Contents\n",
    "\n",
    "<div class=\"alert alert-block alert-info\" style=\"margin-top: 20px\">\n",
    "\n",
    "<font size = 3>\n",
    "    \n",
    "1. <a href=\"#item31\">Download and Clean Dataset</a>  \n",
    "2. <a href=\"#item32\">Import Keras</a>  \n",
    "3. <a href=\"#item33\">Build a Neural Network</a>  \n",
    "4. <a href=\"#item34\">Train and Test the Network</a>  \n",
    "\n",
    "</font>\n",
    "</div>\n"
   ]
  },
  {
   "cell_type": "markdown",
   "metadata": {
    "button": false,
    "deletable": true,
    "new_sheet": false,
    "run_control": {
     "read_only": false
    }
   },
   "source": [
    "<a id=\"item31\"></a>\n"
   ]
  },
  {
   "cell_type": "markdown",
   "metadata": {
    "button": false,
    "deletable": true,
    "new_sheet": false,
    "run_control": {
     "read_only": false
    }
   },
   "source": [
    "## Download and Clean Dataset\n"
   ]
  },
  {
   "cell_type": "markdown",
   "metadata": {
    "button": false,
    "deletable": true,
    "new_sheet": false,
    "run_control": {
     "read_only": false
    }
   },
   "source": [
    "Let's start by importing the <em>pandas</em> and the Numpy libraries.\n"
   ]
  },
  {
   "cell_type": "code",
   "execution_count": 1,
   "metadata": {
    "button": false,
    "deletable": true,
    "new_sheet": false,
    "run_control": {
     "read_only": false
    }
   },
   "outputs": [],
   "source": [
    "import pandas as pd\n",
    "import numpy as np"
   ]
  },
  {
   "cell_type": "markdown",
   "metadata": {
    "button": false,
    "deletable": true,
    "new_sheet": false,
    "run_control": {
     "read_only": false
    }
   },
   "source": [
    "We will be playing around with the same dataset that we used in the videos.\n",
    "\n",
    "<strong>The dataset is about the compressive strength of different samples of concrete based on the volumes of the different ingredients that were used to make them. Ingredients include:</strong>\n",
    "\n",
    "<strong>1. Cement</strong>\n",
    "\n",
    "<strong>2. Blast Furnace Slag</strong>\n",
    "\n",
    "<strong>3. Fly Ash</strong>\n",
    "\n",
    "<strong>4. Water</strong>\n",
    "\n",
    "<strong>5. Superplasticizer</strong>\n",
    "\n",
    "<strong>6. Coarse Aggregate</strong>\n",
    "\n",
    "<strong>7. Fine Aggregate</strong>\n"
   ]
  },
  {
   "cell_type": "markdown",
   "metadata": {
    "button": false,
    "deletable": true,
    "new_sheet": false,
    "run_control": {
     "read_only": false
    }
   },
   "source": [
    "Let's download the data and read it into a <em>pandas</em> dataframe.\n"
   ]
  },
  {
   "cell_type": "code",
   "execution_count": 2,
   "metadata": {
    "button": false,
    "deletable": true,
    "new_sheet": false,
    "run_control": {
     "read_only": false
    }
   },
   "outputs": [
    {
     "data": {
      "text/html": [
       "<div>\n",
       "<style scoped>\n",
       "    .dataframe tbody tr th:only-of-type {\n",
       "        vertical-align: middle;\n",
       "    }\n",
       "\n",
       "    .dataframe tbody tr th {\n",
       "        vertical-align: top;\n",
       "    }\n",
       "\n",
       "    .dataframe thead th {\n",
       "        text-align: right;\n",
       "    }\n",
       "</style>\n",
       "<table border=\"1\" class=\"dataframe\">\n",
       "  <thead>\n",
       "    <tr style=\"text-align: right;\">\n",
       "      <th></th>\n",
       "      <th>Cement</th>\n",
       "      <th>Blast Furnace Slag</th>\n",
       "      <th>Fly Ash</th>\n",
       "      <th>Water</th>\n",
       "      <th>Superplasticizer</th>\n",
       "      <th>Coarse Aggregate</th>\n",
       "      <th>Fine Aggregate</th>\n",
       "      <th>Age</th>\n",
       "      <th>Strength</th>\n",
       "    </tr>\n",
       "  </thead>\n",
       "  <tbody>\n",
       "    <tr>\n",
       "      <th>0</th>\n",
       "      <td>540.0</td>\n",
       "      <td>0.0</td>\n",
       "      <td>0.0</td>\n",
       "      <td>162.0</td>\n",
       "      <td>2.5</td>\n",
       "      <td>1040.0</td>\n",
       "      <td>676.0</td>\n",
       "      <td>28</td>\n",
       "      <td>79.99</td>\n",
       "    </tr>\n",
       "    <tr>\n",
       "      <th>1</th>\n",
       "      <td>540.0</td>\n",
       "      <td>0.0</td>\n",
       "      <td>0.0</td>\n",
       "      <td>162.0</td>\n",
       "      <td>2.5</td>\n",
       "      <td>1055.0</td>\n",
       "      <td>676.0</td>\n",
       "      <td>28</td>\n",
       "      <td>61.89</td>\n",
       "    </tr>\n",
       "    <tr>\n",
       "      <th>2</th>\n",
       "      <td>332.5</td>\n",
       "      <td>142.5</td>\n",
       "      <td>0.0</td>\n",
       "      <td>228.0</td>\n",
       "      <td>0.0</td>\n",
       "      <td>932.0</td>\n",
       "      <td>594.0</td>\n",
       "      <td>270</td>\n",
       "      <td>40.27</td>\n",
       "    </tr>\n",
       "    <tr>\n",
       "      <th>3</th>\n",
       "      <td>332.5</td>\n",
       "      <td>142.5</td>\n",
       "      <td>0.0</td>\n",
       "      <td>228.0</td>\n",
       "      <td>0.0</td>\n",
       "      <td>932.0</td>\n",
       "      <td>594.0</td>\n",
       "      <td>365</td>\n",
       "      <td>41.05</td>\n",
       "    </tr>\n",
       "    <tr>\n",
       "      <th>4</th>\n",
       "      <td>198.6</td>\n",
       "      <td>132.4</td>\n",
       "      <td>0.0</td>\n",
       "      <td>192.0</td>\n",
       "      <td>0.0</td>\n",
       "      <td>978.4</td>\n",
       "      <td>825.5</td>\n",
       "      <td>360</td>\n",
       "      <td>44.30</td>\n",
       "    </tr>\n",
       "  </tbody>\n",
       "</table>\n",
       "</div>"
      ],
      "text/plain": [
       "   Cement  Blast Furnace Slag  Fly Ash  Water  Superplasticizer  \\\n",
       "0   540.0                 0.0      0.0  162.0               2.5   \n",
       "1   540.0                 0.0      0.0  162.0               2.5   \n",
       "2   332.5               142.5      0.0  228.0               0.0   \n",
       "3   332.5               142.5      0.0  228.0               0.0   \n",
       "4   198.6               132.4      0.0  192.0               0.0   \n",
       "\n",
       "   Coarse Aggregate  Fine Aggregate  Age  Strength  \n",
       "0            1040.0           676.0   28     79.99  \n",
       "1            1055.0           676.0   28     61.89  \n",
       "2             932.0           594.0  270     40.27  \n",
       "3             932.0           594.0  365     41.05  \n",
       "4             978.4           825.5  360     44.30  "
      ]
     },
     "execution_count": 2,
     "metadata": {},
     "output_type": "execute_result"
    }
   ],
   "source": [
    "concrete_data = pd.read_csv('https://s3-api.us-geo.objectstorage.softlayer.net/cf-courses-data/CognitiveClass/DL0101EN/labs/data/concrete_data.csv')\n",
    "concrete_data.head()"
   ]
  },
  {
   "cell_type": "markdown",
   "metadata": {
    "button": false,
    "deletable": true,
    "new_sheet": false,
    "run_control": {
     "read_only": false
    }
   },
   "source": [
    "So the first concrete sample has 540 cubic meter of cement, 0 cubic meter of blast furnace slag, 0 cubic meter of fly ash, 162 cubic meter of water, 2.5 cubic meter of superplaticizer, 1040 cubic meter of coarse aggregate, 676 cubic meter of fine aggregate. Such a concrete mix which is 28 days old, has a compressive strength of 79.99 MPa. \n"
   ]
  },
  {
   "cell_type": "markdown",
   "metadata": {
    "button": false,
    "deletable": true,
    "new_sheet": false,
    "run_control": {
     "read_only": false
    }
   },
   "source": [
    "#### Let's check how many data points we have.\n"
   ]
  },
  {
   "cell_type": "code",
   "execution_count": 3,
   "metadata": {
    "button": false,
    "deletable": true,
    "new_sheet": false,
    "run_control": {
     "read_only": false
    }
   },
   "outputs": [
    {
     "data": {
      "text/plain": [
       "(1030, 9)"
      ]
     },
     "execution_count": 3,
     "metadata": {},
     "output_type": "execute_result"
    }
   ],
   "source": [
    "concrete_data.shape"
   ]
  },
  {
   "cell_type": "markdown",
   "metadata": {
    "button": false,
    "deletable": true,
    "new_sheet": false,
    "run_control": {
     "read_only": false
    }
   },
   "source": [
    "So, there are approximately 1000 samples to train our model on. Because of the few samples, we have to be careful not to overfit the training data.\n"
   ]
  },
  {
   "cell_type": "markdown",
   "metadata": {
    "button": false,
    "deletable": true,
    "new_sheet": false,
    "run_control": {
     "read_only": false
    }
   },
   "source": [
    "Let's check the dataset for any missing values.\n"
   ]
  },
  {
   "cell_type": "code",
   "execution_count": 4,
   "metadata": {
    "button": false,
    "deletable": true,
    "new_sheet": false,
    "run_control": {
     "read_only": false
    }
   },
   "outputs": [
    {
     "data": {
      "text/html": [
       "<div>\n",
       "<style scoped>\n",
       "    .dataframe tbody tr th:only-of-type {\n",
       "        vertical-align: middle;\n",
       "    }\n",
       "\n",
       "    .dataframe tbody tr th {\n",
       "        vertical-align: top;\n",
       "    }\n",
       "\n",
       "    .dataframe thead th {\n",
       "        text-align: right;\n",
       "    }\n",
       "</style>\n",
       "<table border=\"1\" class=\"dataframe\">\n",
       "  <thead>\n",
       "    <tr style=\"text-align: right;\">\n",
       "      <th></th>\n",
       "      <th>Cement</th>\n",
       "      <th>Blast Furnace Slag</th>\n",
       "      <th>Fly Ash</th>\n",
       "      <th>Water</th>\n",
       "      <th>Superplasticizer</th>\n",
       "      <th>Coarse Aggregate</th>\n",
       "      <th>Fine Aggregate</th>\n",
       "      <th>Age</th>\n",
       "      <th>Strength</th>\n",
       "    </tr>\n",
       "  </thead>\n",
       "  <tbody>\n",
       "    <tr>\n",
       "      <th>count</th>\n",
       "      <td>1030.000000</td>\n",
       "      <td>1030.000000</td>\n",
       "      <td>1030.000000</td>\n",
       "      <td>1030.000000</td>\n",
       "      <td>1030.000000</td>\n",
       "      <td>1030.000000</td>\n",
       "      <td>1030.000000</td>\n",
       "      <td>1030.000000</td>\n",
       "      <td>1030.000000</td>\n",
       "    </tr>\n",
       "    <tr>\n",
       "      <th>mean</th>\n",
       "      <td>281.167864</td>\n",
       "      <td>73.895825</td>\n",
       "      <td>54.188350</td>\n",
       "      <td>181.567282</td>\n",
       "      <td>6.204660</td>\n",
       "      <td>972.918932</td>\n",
       "      <td>773.580485</td>\n",
       "      <td>45.662136</td>\n",
       "      <td>35.817961</td>\n",
       "    </tr>\n",
       "    <tr>\n",
       "      <th>std</th>\n",
       "      <td>104.506364</td>\n",
       "      <td>86.279342</td>\n",
       "      <td>63.997004</td>\n",
       "      <td>21.354219</td>\n",
       "      <td>5.973841</td>\n",
       "      <td>77.753954</td>\n",
       "      <td>80.175980</td>\n",
       "      <td>63.169912</td>\n",
       "      <td>16.705742</td>\n",
       "    </tr>\n",
       "    <tr>\n",
       "      <th>min</th>\n",
       "      <td>102.000000</td>\n",
       "      <td>0.000000</td>\n",
       "      <td>0.000000</td>\n",
       "      <td>121.800000</td>\n",
       "      <td>0.000000</td>\n",
       "      <td>801.000000</td>\n",
       "      <td>594.000000</td>\n",
       "      <td>1.000000</td>\n",
       "      <td>2.330000</td>\n",
       "    </tr>\n",
       "    <tr>\n",
       "      <th>25%</th>\n",
       "      <td>192.375000</td>\n",
       "      <td>0.000000</td>\n",
       "      <td>0.000000</td>\n",
       "      <td>164.900000</td>\n",
       "      <td>0.000000</td>\n",
       "      <td>932.000000</td>\n",
       "      <td>730.950000</td>\n",
       "      <td>7.000000</td>\n",
       "      <td>23.710000</td>\n",
       "    </tr>\n",
       "    <tr>\n",
       "      <th>50%</th>\n",
       "      <td>272.900000</td>\n",
       "      <td>22.000000</td>\n",
       "      <td>0.000000</td>\n",
       "      <td>185.000000</td>\n",
       "      <td>6.400000</td>\n",
       "      <td>968.000000</td>\n",
       "      <td>779.500000</td>\n",
       "      <td>28.000000</td>\n",
       "      <td>34.445000</td>\n",
       "    </tr>\n",
       "    <tr>\n",
       "      <th>75%</th>\n",
       "      <td>350.000000</td>\n",
       "      <td>142.950000</td>\n",
       "      <td>118.300000</td>\n",
       "      <td>192.000000</td>\n",
       "      <td>10.200000</td>\n",
       "      <td>1029.400000</td>\n",
       "      <td>824.000000</td>\n",
       "      <td>56.000000</td>\n",
       "      <td>46.135000</td>\n",
       "    </tr>\n",
       "    <tr>\n",
       "      <th>max</th>\n",
       "      <td>540.000000</td>\n",
       "      <td>359.400000</td>\n",
       "      <td>200.100000</td>\n",
       "      <td>247.000000</td>\n",
       "      <td>32.200000</td>\n",
       "      <td>1145.000000</td>\n",
       "      <td>992.600000</td>\n",
       "      <td>365.000000</td>\n",
       "      <td>82.600000</td>\n",
       "    </tr>\n",
       "  </tbody>\n",
       "</table>\n",
       "</div>"
      ],
      "text/plain": [
       "            Cement  Blast Furnace Slag      Fly Ash        Water  \\\n",
       "count  1030.000000         1030.000000  1030.000000  1030.000000   \n",
       "mean    281.167864           73.895825    54.188350   181.567282   \n",
       "std     104.506364           86.279342    63.997004    21.354219   \n",
       "min     102.000000            0.000000     0.000000   121.800000   \n",
       "25%     192.375000            0.000000     0.000000   164.900000   \n",
       "50%     272.900000           22.000000     0.000000   185.000000   \n",
       "75%     350.000000          142.950000   118.300000   192.000000   \n",
       "max     540.000000          359.400000   200.100000   247.000000   \n",
       "\n",
       "       Superplasticizer  Coarse Aggregate  Fine Aggregate          Age  \\\n",
       "count       1030.000000       1030.000000     1030.000000  1030.000000   \n",
       "mean           6.204660        972.918932      773.580485    45.662136   \n",
       "std            5.973841         77.753954       80.175980    63.169912   \n",
       "min            0.000000        801.000000      594.000000     1.000000   \n",
       "25%            0.000000        932.000000      730.950000     7.000000   \n",
       "50%            6.400000        968.000000      779.500000    28.000000   \n",
       "75%           10.200000       1029.400000      824.000000    56.000000   \n",
       "max           32.200000       1145.000000      992.600000   365.000000   \n",
       "\n",
       "          Strength  \n",
       "count  1030.000000  \n",
       "mean     35.817961  \n",
       "std      16.705742  \n",
       "min       2.330000  \n",
       "25%      23.710000  \n",
       "50%      34.445000  \n",
       "75%      46.135000  \n",
       "max      82.600000  "
      ]
     },
     "execution_count": 4,
     "metadata": {},
     "output_type": "execute_result"
    }
   ],
   "source": [
    "concrete_data.describe()"
   ]
  },
  {
   "cell_type": "code",
   "execution_count": 5,
   "metadata": {
    "button": false,
    "deletable": true,
    "new_sheet": false,
    "run_control": {
     "read_only": false
    }
   },
   "outputs": [
    {
     "data": {
      "text/plain": [
       "Cement                0\n",
       "Blast Furnace Slag    0\n",
       "Fly Ash               0\n",
       "Water                 0\n",
       "Superplasticizer      0\n",
       "Coarse Aggregate      0\n",
       "Fine Aggregate        0\n",
       "Age                   0\n",
       "Strength              0\n",
       "dtype: int64"
      ]
     },
     "execution_count": 5,
     "metadata": {},
     "output_type": "execute_result"
    }
   ],
   "source": [
    "concrete_data.isnull().sum()"
   ]
  },
  {
   "cell_type": "markdown",
   "metadata": {
    "button": false,
    "deletable": true,
    "new_sheet": false,
    "run_control": {
     "read_only": false
    }
   },
   "source": [
    "The data looks very clean and is ready to be used to build our model.\n"
   ]
  },
  {
   "cell_type": "markdown",
   "metadata": {
    "button": false,
    "deletable": true,
    "new_sheet": false,
    "run_control": {
     "read_only": false
    }
   },
   "source": [
    "#### Split data into predictors and target\n"
   ]
  },
  {
   "cell_type": "markdown",
   "metadata": {},
   "source": [
    "The target variable in this problem is the concrete sample strength. Therefore, our predictors will be all the other columns.\n"
   ]
  },
  {
   "cell_type": "code",
   "execution_count": 6,
   "metadata": {
    "button": false,
    "deletable": true,
    "new_sheet": false,
    "run_control": {
     "read_only": false
    }
   },
   "outputs": [],
   "source": [
    "concrete_data_columns = concrete_data.columns\n",
    "\n",
    "predictors = concrete_data[concrete_data_columns[concrete_data_columns != 'Strength']] # all columns except Strength\n",
    "target = concrete_data['Strength'] # Strength column"
   ]
  },
  {
   "cell_type": "markdown",
   "metadata": {
    "button": false,
    "deletable": true,
    "new_sheet": false,
    "run_control": {
     "read_only": false
    }
   },
   "source": [
    "<a id=\"item2\"></a>\n"
   ]
  },
  {
   "cell_type": "markdown",
   "metadata": {
    "button": false,
    "deletable": true,
    "new_sheet": false,
    "run_control": {
     "read_only": false
    }
   },
   "source": [
    "Let's do a quick sanity check of the predictors and the target dataframes.\n"
   ]
  },
  {
   "cell_type": "code",
   "execution_count": 7,
   "metadata": {
    "button": false,
    "deletable": true,
    "new_sheet": false,
    "run_control": {
     "read_only": false
    }
   },
   "outputs": [
    {
     "data": {
      "text/html": [
       "<div>\n",
       "<style scoped>\n",
       "    .dataframe tbody tr th:only-of-type {\n",
       "        vertical-align: middle;\n",
       "    }\n",
       "\n",
       "    .dataframe tbody tr th {\n",
       "        vertical-align: top;\n",
       "    }\n",
       "\n",
       "    .dataframe thead th {\n",
       "        text-align: right;\n",
       "    }\n",
       "</style>\n",
       "<table border=\"1\" class=\"dataframe\">\n",
       "  <thead>\n",
       "    <tr style=\"text-align: right;\">\n",
       "      <th></th>\n",
       "      <th>Cement</th>\n",
       "      <th>Blast Furnace Slag</th>\n",
       "      <th>Fly Ash</th>\n",
       "      <th>Water</th>\n",
       "      <th>Superplasticizer</th>\n",
       "      <th>Coarse Aggregate</th>\n",
       "      <th>Fine Aggregate</th>\n",
       "      <th>Age</th>\n",
       "    </tr>\n",
       "  </thead>\n",
       "  <tbody>\n",
       "    <tr>\n",
       "      <th>0</th>\n",
       "      <td>540.0</td>\n",
       "      <td>0.0</td>\n",
       "      <td>0.0</td>\n",
       "      <td>162.0</td>\n",
       "      <td>2.5</td>\n",
       "      <td>1040.0</td>\n",
       "      <td>676.0</td>\n",
       "      <td>28</td>\n",
       "    </tr>\n",
       "    <tr>\n",
       "      <th>1</th>\n",
       "      <td>540.0</td>\n",
       "      <td>0.0</td>\n",
       "      <td>0.0</td>\n",
       "      <td>162.0</td>\n",
       "      <td>2.5</td>\n",
       "      <td>1055.0</td>\n",
       "      <td>676.0</td>\n",
       "      <td>28</td>\n",
       "    </tr>\n",
       "    <tr>\n",
       "      <th>2</th>\n",
       "      <td>332.5</td>\n",
       "      <td>142.5</td>\n",
       "      <td>0.0</td>\n",
       "      <td>228.0</td>\n",
       "      <td>0.0</td>\n",
       "      <td>932.0</td>\n",
       "      <td>594.0</td>\n",
       "      <td>270</td>\n",
       "    </tr>\n",
       "    <tr>\n",
       "      <th>3</th>\n",
       "      <td>332.5</td>\n",
       "      <td>142.5</td>\n",
       "      <td>0.0</td>\n",
       "      <td>228.0</td>\n",
       "      <td>0.0</td>\n",
       "      <td>932.0</td>\n",
       "      <td>594.0</td>\n",
       "      <td>365</td>\n",
       "    </tr>\n",
       "    <tr>\n",
       "      <th>4</th>\n",
       "      <td>198.6</td>\n",
       "      <td>132.4</td>\n",
       "      <td>0.0</td>\n",
       "      <td>192.0</td>\n",
       "      <td>0.0</td>\n",
       "      <td>978.4</td>\n",
       "      <td>825.5</td>\n",
       "      <td>360</td>\n",
       "    </tr>\n",
       "  </tbody>\n",
       "</table>\n",
       "</div>"
      ],
      "text/plain": [
       "   Cement  Blast Furnace Slag  Fly Ash  Water  Superplasticizer  \\\n",
       "0   540.0                 0.0      0.0  162.0               2.5   \n",
       "1   540.0                 0.0      0.0  162.0               2.5   \n",
       "2   332.5               142.5      0.0  228.0               0.0   \n",
       "3   332.5               142.5      0.0  228.0               0.0   \n",
       "4   198.6               132.4      0.0  192.0               0.0   \n",
       "\n",
       "   Coarse Aggregate  Fine Aggregate  Age  \n",
       "0            1040.0           676.0   28  \n",
       "1            1055.0           676.0   28  \n",
       "2             932.0           594.0  270  \n",
       "3             932.0           594.0  365  \n",
       "4             978.4           825.5  360  "
      ]
     },
     "execution_count": 7,
     "metadata": {},
     "output_type": "execute_result"
    }
   ],
   "source": [
    "predictors.head()"
   ]
  },
  {
   "cell_type": "code",
   "execution_count": 8,
   "metadata": {
    "button": false,
    "deletable": true,
    "new_sheet": false,
    "run_control": {
     "read_only": false
    }
   },
   "outputs": [
    {
     "data": {
      "text/plain": [
       "0    79.99\n",
       "1    61.89\n",
       "2    40.27\n",
       "3    41.05\n",
       "4    44.30\n",
       "Name: Strength, dtype: float64"
      ]
     },
     "execution_count": 8,
     "metadata": {},
     "output_type": "execute_result"
    }
   ],
   "source": [
    "target.head()"
   ]
  },
  {
   "cell_type": "markdown",
   "metadata": {
    "button": false,
    "deletable": true,
    "new_sheet": false,
    "run_control": {
     "read_only": false
    }
   },
   "source": []
  },
  {
   "cell_type": "code",
   "execution_count": 9,
   "metadata": {},
   "outputs": [
    {
     "data": {
      "text/html": [
       "<div>\n",
       "<style scoped>\n",
       "    .dataframe tbody tr th:only-of-type {\n",
       "        vertical-align: middle;\n",
       "    }\n",
       "\n",
       "    .dataframe tbody tr th {\n",
       "        vertical-align: top;\n",
       "    }\n",
       "\n",
       "    .dataframe thead th {\n",
       "        text-align: right;\n",
       "    }\n",
       "</style>\n",
       "<table border=\"1\" class=\"dataframe\">\n",
       "  <thead>\n",
       "    <tr style=\"text-align: right;\">\n",
       "      <th></th>\n",
       "      <th>Cement</th>\n",
       "      <th>Blast Furnace Slag</th>\n",
       "      <th>Fly Ash</th>\n",
       "      <th>Water</th>\n",
       "      <th>Superplasticizer</th>\n",
       "      <th>Coarse Aggregate</th>\n",
       "      <th>Fine Aggregate</th>\n",
       "      <th>Age</th>\n",
       "    </tr>\n",
       "  </thead>\n",
       "  <tbody>\n",
       "    <tr>\n",
       "      <th>0</th>\n",
       "      <td>2.476712</td>\n",
       "      <td>-0.856472</td>\n",
       "      <td>-0.846733</td>\n",
       "      <td>-0.916319</td>\n",
       "      <td>-0.620147</td>\n",
       "      <td>0.862735</td>\n",
       "      <td>-1.217079</td>\n",
       "      <td>-0.279597</td>\n",
       "    </tr>\n",
       "    <tr>\n",
       "      <th>1</th>\n",
       "      <td>2.476712</td>\n",
       "      <td>-0.856472</td>\n",
       "      <td>-0.846733</td>\n",
       "      <td>-0.916319</td>\n",
       "      <td>-0.620147</td>\n",
       "      <td>1.055651</td>\n",
       "      <td>-1.217079</td>\n",
       "      <td>-0.279597</td>\n",
       "    </tr>\n",
       "    <tr>\n",
       "      <th>2</th>\n",
       "      <td>0.491187</td>\n",
       "      <td>0.795140</td>\n",
       "      <td>-0.846733</td>\n",
       "      <td>2.174405</td>\n",
       "      <td>-1.038638</td>\n",
       "      <td>-0.526262</td>\n",
       "      <td>-2.239829</td>\n",
       "      <td>3.551340</td>\n",
       "    </tr>\n",
       "    <tr>\n",
       "      <th>3</th>\n",
       "      <td>0.491187</td>\n",
       "      <td>0.795140</td>\n",
       "      <td>-0.846733</td>\n",
       "      <td>2.174405</td>\n",
       "      <td>-1.038638</td>\n",
       "      <td>-0.526262</td>\n",
       "      <td>-2.239829</td>\n",
       "      <td>5.055221</td>\n",
       "    </tr>\n",
       "    <tr>\n",
       "      <th>4</th>\n",
       "      <td>-0.790075</td>\n",
       "      <td>0.678079</td>\n",
       "      <td>-0.846733</td>\n",
       "      <td>0.488555</td>\n",
       "      <td>-1.038638</td>\n",
       "      <td>0.070492</td>\n",
       "      <td>0.647569</td>\n",
       "      <td>4.976069</td>\n",
       "    </tr>\n",
       "  </tbody>\n",
       "</table>\n",
       "</div>"
      ],
      "text/plain": [
       "     Cement  Blast Furnace Slag   Fly Ash     Water  Superplasticizer  \\\n",
       "0  2.476712           -0.856472 -0.846733 -0.916319         -0.620147   \n",
       "1  2.476712           -0.856472 -0.846733 -0.916319         -0.620147   \n",
       "2  0.491187            0.795140 -0.846733  2.174405         -1.038638   \n",
       "3  0.491187            0.795140 -0.846733  2.174405         -1.038638   \n",
       "4 -0.790075            0.678079 -0.846733  0.488555         -1.038638   \n",
       "\n",
       "   Coarse Aggregate  Fine Aggregate       Age  \n",
       "0          0.862735       -1.217079 -0.279597  \n",
       "1          1.055651       -1.217079 -0.279597  \n",
       "2         -0.526262       -2.239829  3.551340  \n",
       "3         -0.526262       -2.239829  5.055221  \n",
       "4          0.070492        0.647569  4.976069  "
      ]
     },
     "execution_count": 9,
     "metadata": {},
     "output_type": "execute_result"
    }
   ],
   "source": [
    "predictors_norm = (predictors-predictors.mean())/predictors.std()\n",
    "predictors_norm.head()"
   ]
  },
  {
   "cell_type": "code",
   "execution_count": 10,
   "metadata": {
    "button": false,
    "deletable": true,
    "new_sheet": false,
    "run_control": {
     "read_only": false
    }
   },
   "outputs": [],
   "source": [
    "n_cols = predictors_norm.shape[1] # number of predictors"
   ]
  },
  {
   "cell_type": "code",
   "execution_count": 11,
   "metadata": {},
   "outputs": [
    {
     "data": {
      "text/plain": [
       "8"
      ]
     },
     "execution_count": 11,
     "metadata": {},
     "output_type": "execute_result"
    }
   ],
   "source": [
    "n_cols"
   ]
  },
  {
   "cell_type": "markdown",
   "metadata": {
    "button": false,
    "deletable": true,
    "new_sheet": false,
    "run_control": {
     "read_only": false
    }
   },
   "source": [
    "<a id=\"item1\"></a>\n"
   ]
  },
  {
   "cell_type": "markdown",
   "metadata": {},
   "source": [
    "<a id='item32'></a>\n"
   ]
  },
  {
   "cell_type": "markdown",
   "metadata": {
    "button": false,
    "new_sheet": false,
    "run_control": {
     "read_only": false
    }
   },
   "source": [
    "## Importing Keras\n"
   ]
  },
  {
   "cell_type": "markdown",
   "metadata": {
    "button": false,
    "deletable": true,
    "new_sheet": false,
    "run_control": {
     "read_only": false
    }
   },
   "source": [
    "#### Let's go ahead and import the Keras library\n"
   ]
  },
  {
   "cell_type": "code",
   "execution_count": 12,
   "metadata": {
    "button": false,
    "deletable": true,
    "new_sheet": false,
    "run_control": {
     "read_only": false
    }
   },
   "outputs": [
    {
     "name": "stderr",
     "output_type": "stream",
     "text": [
      "Using TensorFlow backend.\n",
      "/home/jupyterlab/conda/envs/python/lib/python3.6/site-packages/tensorflow/python/framework/dtypes.py:519: FutureWarning: Passing (type, 1) or '1type' as a synonym of type is deprecated; in a future version of numpy, it will be understood as (type, (1,)) / '(1,)type'.\n",
      "  _np_qint8 = np.dtype([(\"qint8\", np.int8, 1)])\n",
      "/home/jupyterlab/conda/envs/python/lib/python3.6/site-packages/tensorflow/python/framework/dtypes.py:520: FutureWarning: Passing (type, 1) or '1type' as a synonym of type is deprecated; in a future version of numpy, it will be understood as (type, (1,)) / '(1,)type'.\n",
      "  _np_quint8 = np.dtype([(\"quint8\", np.uint8, 1)])\n",
      "/home/jupyterlab/conda/envs/python/lib/python3.6/site-packages/tensorflow/python/framework/dtypes.py:521: FutureWarning: Passing (type, 1) or '1type' as a synonym of type is deprecated; in a future version of numpy, it will be understood as (type, (1,)) / '(1,)type'.\n",
      "  _np_qint16 = np.dtype([(\"qint16\", np.int16, 1)])\n",
      "/home/jupyterlab/conda/envs/python/lib/python3.6/site-packages/tensorflow/python/framework/dtypes.py:522: FutureWarning: Passing (type, 1) or '1type' as a synonym of type is deprecated; in a future version of numpy, it will be understood as (type, (1,)) / '(1,)type'.\n",
      "  _np_quint16 = np.dtype([(\"quint16\", np.uint16, 1)])\n",
      "/home/jupyterlab/conda/envs/python/lib/python3.6/site-packages/tensorflow/python/framework/dtypes.py:523: FutureWarning: Passing (type, 1) or '1type' as a synonym of type is deprecated; in a future version of numpy, it will be understood as (type, (1,)) / '(1,)type'.\n",
      "  _np_qint32 = np.dtype([(\"qint32\", np.int32, 1)])\n",
      "/home/jupyterlab/conda/envs/python/lib/python3.6/site-packages/tensorflow/python/framework/dtypes.py:528: FutureWarning: Passing (type, 1) or '1type' as a synonym of type is deprecated; in a future version of numpy, it will be understood as (type, (1,)) / '(1,)type'.\n",
      "  np_resource = np.dtype([(\"resource\", np.ubyte, 1)])\n"
     ]
    }
   ],
   "source": [
    "import keras"
   ]
  },
  {
   "cell_type": "markdown",
   "metadata": {
    "button": false,
    "deletable": true,
    "new_sheet": false,
    "run_control": {
     "read_only": false
    }
   },
   "source": [
    "Let's import the rest of the packages from the Keras library that we will need to build our regressoin model.\n"
   ]
  },
  {
   "cell_type": "code",
   "execution_count": 13,
   "metadata": {
    "button": false,
    "deletable": true,
    "new_sheet": false,
    "run_control": {
     "read_only": false
    }
   },
   "outputs": [],
   "source": [
    "from keras.models import Sequential\n",
    "from keras.layers import Dense"
   ]
  },
  {
   "cell_type": "markdown",
   "metadata": {},
   "source": [
    "<a id='item33'></a>\n"
   ]
  },
  {
   "cell_type": "markdown",
   "metadata": {
    "button": false,
    "deletable": true,
    "new_sheet": false,
    "run_control": {
     "read_only": false
    }
   },
   "source": [
    "## Build a Neural Network\n"
   ]
  },
  {
   "cell_type": "markdown",
   "metadata": {
    "button": false,
    "deletable": true,
    "new_sheet": false,
    "run_control": {
     "read_only": false
    }
   },
   "source": [
    "Let's define a function that defines our regression model for us so that we can conveniently call it to create our model.\n"
   ]
  },
  {
   "cell_type": "code",
   "execution_count": 37,
   "metadata": {
    "button": false,
    "deletable": true,
    "new_sheet": false,
    "run_control": {
     "read_only": false
    }
   },
   "outputs": [],
   "source": [
    "# define regression model\n",
    "def regression_model():\n",
    "    # create model\n",
    "    model = Sequential()\n",
    "    model.add(Dense(10, activation='relu', input_shape=(n_cols,)))  #Input Layer\n",
    "    model.add(Dense(10, activation='relu', name = 'Hidden_Layer_1'))\n",
    "    model.add(Dense(10, activation='relu', name = 'Hidden_Layer_2'))\n",
    "    model.add(Dense(10, activation='relu', name = 'Hidden_Layer_3'))\n",
    "    model.add(Dense(1)) #output Layer\n",
    "    \n",
    "    # compile model\n",
    "    model.compile(optimizer='adam', loss='mean_squared_error')\n",
    "    return model"
   ]
  },
  {
   "cell_type": "markdown",
   "metadata": {},
   "source": [
    "The above function create a model that has one hidden layer, of 10 hidden units.\n"
   ]
  },
  {
   "cell_type": "markdown",
   "metadata": {
    "button": false,
    "deletable": true,
    "new_sheet": false,
    "run_control": {
     "read_only": false
    }
   },
   "source": [
    "<a id=\"item4\"></a>\n"
   ]
  },
  {
   "cell_type": "markdown",
   "metadata": {
    "button": false,
    "deletable": true,
    "new_sheet": false,
    "run_control": {
     "read_only": false
    }
   },
   "source": [
    "## Train and Test the Network\n"
   ]
  },
  {
   "cell_type": "markdown",
   "metadata": {},
   "source": [
    "Let's call the function now to create our model.\n"
   ]
  },
  {
   "cell_type": "code",
   "execution_count": 38,
   "metadata": {
    "button": false,
    "deletable": true,
    "new_sheet": false,
    "run_control": {
     "read_only": false
    }
   },
   "outputs": [],
   "source": [
    "# build the model\n",
    "model = regression_model()"
   ]
  },
  {
   "cell_type": "markdown",
   "metadata": {},
   "source": [
    "Next, we will create our loss function and set it too MSE\n"
   ]
  },
  {
   "cell_type": "code",
   "execution_count": 39,
   "metadata": {},
   "outputs": [],
   "source": [
    "model.compile(loss='mse', optimizer='adam', metrics=['mse'])"
   ]
  },
  {
   "cell_type": "markdown",
   "metadata": {},
   "source": [
    "Next, we will train and test the model at the same time using the _fit_ method. We will leave out 30% of the data for validation and we will train the model for 50 epochs.\n"
   ]
  },
  {
   "cell_type": "code",
   "execution_count": 45,
   "metadata": {},
   "outputs": [
    {
     "name": "stdout",
     "output_type": "stream",
     "text": [
      "Train on 721 samples, validate on 309 samples\n",
      "Epoch 1/100\n",
      " - 0s - loss: 72.9547 - mean_squared_error: 72.9547 - val_loss: 115.5628 - val_mean_squared_error: 115.5628\n",
      "Epoch 2/100\n",
      " - 0s - loss: 72.1636 - mean_squared_error: 72.1636 - val_loss: 114.8231 - val_mean_squared_error: 114.8231\n",
      "Epoch 3/100\n",
      " - 0s - loss: 71.7308 - mean_squared_error: 71.7308 - val_loss: 118.2679 - val_mean_squared_error: 118.2679\n",
      "Epoch 4/100\n",
      " - 0s - loss: 70.7315 - mean_squared_error: 70.7315 - val_loss: 116.1403 - val_mean_squared_error: 116.1403\n",
      "Epoch 5/100\n",
      " - 0s - loss: 70.2415 - mean_squared_error: 70.2415 - val_loss: 120.3773 - val_mean_squared_error: 120.3773\n",
      "Epoch 6/100\n",
      " - 0s - loss: 68.9518 - mean_squared_error: 68.9518 - val_loss: 118.8866 - val_mean_squared_error: 118.8866\n",
      "Epoch 7/100\n",
      " - 0s - loss: 68.5509 - mean_squared_error: 68.5509 - val_loss: 120.6133 - val_mean_squared_error: 120.6133\n",
      "Epoch 8/100\n",
      " - 0s - loss: 68.4959 - mean_squared_error: 68.4959 - val_loss: 121.1007 - val_mean_squared_error: 121.1007\n",
      "Epoch 9/100\n",
      " - 0s - loss: 68.6439 - mean_squared_error: 68.6439 - val_loss: 119.4861 - val_mean_squared_error: 119.4861\n",
      "Epoch 10/100\n",
      " - 0s - loss: 68.2823 - mean_squared_error: 68.2823 - val_loss: 124.4334 - val_mean_squared_error: 124.4334\n",
      "Epoch 11/100\n",
      " - 0s - loss: 66.9892 - mean_squared_error: 66.9892 - val_loss: 123.9133 - val_mean_squared_error: 123.9133\n",
      "Epoch 12/100\n",
      " - 0s - loss: 66.0391 - mean_squared_error: 66.0391 - val_loss: 125.2323 - val_mean_squared_error: 125.2323\n",
      "Epoch 13/100\n",
      " - 0s - loss: 66.1303 - mean_squared_error: 66.1303 - val_loss: 127.0901 - val_mean_squared_error: 127.0901\n",
      "Epoch 14/100\n",
      " - 0s - loss: 65.5301 - mean_squared_error: 65.5301 - val_loss: 126.1185 - val_mean_squared_error: 126.1185\n",
      "Epoch 15/100\n",
      " - 0s - loss: 64.5523 - mean_squared_error: 64.5523 - val_loss: 128.3325 - val_mean_squared_error: 128.3325\n",
      "Epoch 16/100\n",
      " - 0s - loss: 64.4777 - mean_squared_error: 64.4777 - val_loss: 129.7561 - val_mean_squared_error: 129.7561\n",
      "Epoch 17/100\n",
      " - 0s - loss: 64.0822 - mean_squared_error: 64.0822 - val_loss: 130.2696 - val_mean_squared_error: 130.2696\n",
      "Epoch 18/100\n",
      " - 0s - loss: 63.6097 - mean_squared_error: 63.6097 - val_loss: 131.2731 - val_mean_squared_error: 131.2731\n",
      "Epoch 19/100\n",
      " - 0s - loss: 63.1601 - mean_squared_error: 63.1601 - val_loss: 131.3153 - val_mean_squared_error: 131.3153\n",
      "Epoch 20/100\n",
      " - 0s - loss: 62.3947 - mean_squared_error: 62.3947 - val_loss: 133.4052 - val_mean_squared_error: 133.4052\n",
      "Epoch 21/100\n",
      " - 0s - loss: 62.5545 - mean_squared_error: 62.5545 - val_loss: 135.9249 - val_mean_squared_error: 135.9249\n",
      "Epoch 22/100\n",
      " - 0s - loss: 61.9538 - mean_squared_error: 61.9538 - val_loss: 134.6967 - val_mean_squared_error: 134.6967\n",
      "Epoch 23/100\n",
      " - 0s - loss: 61.5830 - mean_squared_error: 61.5830 - val_loss: 135.4667 - val_mean_squared_error: 135.4667\n",
      "Epoch 24/100\n",
      " - 0s - loss: 61.3389 - mean_squared_error: 61.3389 - val_loss: 136.3455 - val_mean_squared_error: 136.3455\n",
      "Epoch 25/100\n",
      " - 0s - loss: 61.2520 - mean_squared_error: 61.2520 - val_loss: 141.0405 - val_mean_squared_error: 141.0405\n",
      "Epoch 26/100\n",
      " - 0s - loss: 61.0389 - mean_squared_error: 61.0389 - val_loss: 136.7512 - val_mean_squared_error: 136.7512\n",
      "Epoch 27/100\n",
      " - 0s - loss: 60.1862 - mean_squared_error: 60.1862 - val_loss: 138.5805 - val_mean_squared_error: 138.5805\n",
      "Epoch 28/100\n",
      " - 0s - loss: 59.9047 - mean_squared_error: 59.9047 - val_loss: 135.4527 - val_mean_squared_error: 135.4527\n",
      "Epoch 29/100\n",
      " - 0s - loss: 59.7091 - mean_squared_error: 59.7091 - val_loss: 140.7325 - val_mean_squared_error: 140.7325\n",
      "Epoch 30/100\n",
      " - 0s - loss: 59.2120 - mean_squared_error: 59.2120 - val_loss: 139.8308 - val_mean_squared_error: 139.8308\n",
      "Epoch 31/100\n",
      " - 0s - loss: 59.1708 - mean_squared_error: 59.1708 - val_loss: 140.6249 - val_mean_squared_error: 140.6249\n",
      "Epoch 32/100\n",
      " - 0s - loss: 59.0145 - mean_squared_error: 59.0145 - val_loss: 142.5734 - val_mean_squared_error: 142.5734\n",
      "Epoch 33/100\n",
      " - 0s - loss: 59.2145 - mean_squared_error: 59.2145 - val_loss: 142.6526 - val_mean_squared_error: 142.6526\n",
      "Epoch 34/100\n",
      " - 0s - loss: 59.6280 - mean_squared_error: 59.6280 - val_loss: 140.6890 - val_mean_squared_error: 140.6890\n",
      "Epoch 35/100\n",
      " - 0s - loss: 58.7895 - mean_squared_error: 58.7895 - val_loss: 143.9349 - val_mean_squared_error: 143.9349\n",
      "Epoch 36/100\n",
      " - 0s - loss: 60.1481 - mean_squared_error: 60.1481 - val_loss: 140.9960 - val_mean_squared_error: 140.9960\n",
      "Epoch 37/100\n",
      " - 0s - loss: 57.6689 - mean_squared_error: 57.6689 - val_loss: 140.9699 - val_mean_squared_error: 140.9699\n",
      "Epoch 38/100\n",
      " - 0s - loss: 57.6707 - mean_squared_error: 57.6707 - val_loss: 141.2228 - val_mean_squared_error: 141.2228\n",
      "Epoch 39/100\n",
      " - 0s - loss: 57.3663 - mean_squared_error: 57.3663 - val_loss: 138.2619 - val_mean_squared_error: 138.2619\n",
      "Epoch 40/100\n",
      " - 0s - loss: 57.0337 - mean_squared_error: 57.0337 - val_loss: 142.0455 - val_mean_squared_error: 142.0455\n",
      "Epoch 41/100\n",
      " - 0s - loss: 56.9956 - mean_squared_error: 56.9956 - val_loss: 139.8862 - val_mean_squared_error: 139.8862\n",
      "Epoch 42/100\n",
      " - 0s - loss: 56.9116 - mean_squared_error: 56.9116 - val_loss: 141.9928 - val_mean_squared_error: 141.9928\n",
      "Epoch 43/100\n",
      " - 0s - loss: 56.7611 - mean_squared_error: 56.7611 - val_loss: 138.3993 - val_mean_squared_error: 138.3993\n",
      "Epoch 44/100\n",
      " - 0s - loss: 56.4725 - mean_squared_error: 56.4725 - val_loss: 141.5837 - val_mean_squared_error: 141.5837\n",
      "Epoch 45/100\n",
      " - 0s - loss: 56.1448 - mean_squared_error: 56.1448 - val_loss: 139.7986 - val_mean_squared_error: 139.7986\n",
      "Epoch 46/100\n",
      " - 0s - loss: 56.0380 - mean_squared_error: 56.0380 - val_loss: 140.9467 - val_mean_squared_error: 140.9467\n",
      "Epoch 47/100\n",
      " - 0s - loss: 55.5258 - mean_squared_error: 55.5258 - val_loss: 143.3700 - val_mean_squared_error: 143.3700\n",
      "Epoch 48/100\n",
      " - 0s - loss: 54.5818 - mean_squared_error: 54.5818 - val_loss: 141.1915 - val_mean_squared_error: 141.1915\n",
      "Epoch 49/100\n",
      " - 0s - loss: 54.8009 - mean_squared_error: 54.8009 - val_loss: 144.4725 - val_mean_squared_error: 144.4725\n",
      "Epoch 50/100\n",
      " - 0s - loss: 54.1302 - mean_squared_error: 54.1302 - val_loss: 139.8710 - val_mean_squared_error: 139.8710\n",
      "Epoch 51/100\n",
      " - 0s - loss: 54.3123 - mean_squared_error: 54.3123 - val_loss: 139.1028 - val_mean_squared_error: 139.1028\n",
      "Epoch 52/100\n",
      " - 0s - loss: 53.8372 - mean_squared_error: 53.8372 - val_loss: 139.4222 - val_mean_squared_error: 139.4222\n",
      "Epoch 53/100\n",
      " - 0s - loss: 53.4493 - mean_squared_error: 53.4493 - val_loss: 144.7134 - val_mean_squared_error: 144.7134\n",
      "Epoch 54/100\n",
      " - 0s - loss: 53.2700 - mean_squared_error: 53.2700 - val_loss: 142.5816 - val_mean_squared_error: 142.5816\n",
      "Epoch 55/100\n",
      " - 0s - loss: 52.7668 - mean_squared_error: 52.7668 - val_loss: 146.7477 - val_mean_squared_error: 146.7477\n",
      "Epoch 56/100\n",
      " - 0s - loss: 53.5916 - mean_squared_error: 53.5916 - val_loss: 143.2031 - val_mean_squared_error: 143.2031\n",
      "Epoch 57/100\n",
      " - 0s - loss: 52.6383 - mean_squared_error: 52.6383 - val_loss: 140.9996 - val_mean_squared_error: 140.9996\n",
      "Epoch 58/100\n",
      " - 0s - loss: 52.3720 - mean_squared_error: 52.3720 - val_loss: 141.6070 - val_mean_squared_error: 141.6070\n",
      "Epoch 59/100\n",
      " - 0s - loss: 51.8646 - mean_squared_error: 51.8646 - val_loss: 141.6787 - val_mean_squared_error: 141.6787\n",
      "Epoch 60/100\n",
      " - 0s - loss: 51.6927 - mean_squared_error: 51.6927 - val_loss: 141.7007 - val_mean_squared_error: 141.7007\n",
      "Epoch 61/100\n",
      " - 0s - loss: 51.2398 - mean_squared_error: 51.2398 - val_loss: 142.0680 - val_mean_squared_error: 142.0680\n",
      "Epoch 62/100\n",
      " - 0s - loss: 51.2547 - mean_squared_error: 51.2547 - val_loss: 144.9386 - val_mean_squared_error: 144.9386\n",
      "Epoch 63/100\n",
      " - 0s - loss: 51.0538 - mean_squared_error: 51.0538 - val_loss: 145.3421 - val_mean_squared_error: 145.3421\n",
      "Epoch 64/100\n",
      " - 0s - loss: 50.7592 - mean_squared_error: 50.7592 - val_loss: 140.0073 - val_mean_squared_error: 140.0073\n",
      "Epoch 65/100\n",
      " - 0s - loss: 49.9609 - mean_squared_error: 49.9609 - val_loss: 143.9352 - val_mean_squared_error: 143.9352\n",
      "Epoch 66/100\n",
      " - 0s - loss: 50.0615 - mean_squared_error: 50.0615 - val_loss: 142.7365 - val_mean_squared_error: 142.7365\n",
      "Epoch 67/100\n",
      " - 0s - loss: 49.6785 - mean_squared_error: 49.6785 - val_loss: 145.8765 - val_mean_squared_error: 145.8765\n",
      "Epoch 68/100\n",
      " - 0s - loss: 49.9347 - mean_squared_error: 49.9347 - val_loss: 139.4648 - val_mean_squared_error: 139.4648\n",
      "Epoch 69/100\n",
      " - 0s - loss: 49.6124 - mean_squared_error: 49.6124 - val_loss: 150.7862 - val_mean_squared_error: 150.7862\n",
      "Epoch 70/100\n",
      " - 0s - loss: 49.4718 - mean_squared_error: 49.4718 - val_loss: 145.2313 - val_mean_squared_error: 145.2313\n",
      "Epoch 71/100\n",
      " - 0s - loss: 48.7826 - mean_squared_error: 48.7826 - val_loss: 143.6908 - val_mean_squared_error: 143.6908\n",
      "Epoch 72/100\n",
      " - 0s - loss: 48.1898 - mean_squared_error: 48.1898 - val_loss: 142.8772 - val_mean_squared_error: 142.8772\n",
      "Epoch 73/100\n",
      " - 0s - loss: 48.0205 - mean_squared_error: 48.0205 - val_loss: 149.5725 - val_mean_squared_error: 149.5725\n",
      "Epoch 74/100\n",
      " - 0s - loss: 48.0613 - mean_squared_error: 48.0613 - val_loss: 142.3734 - val_mean_squared_error: 142.3734\n",
      "Epoch 75/100\n",
      " - 0s - loss: 47.8528 - mean_squared_error: 47.8528 - val_loss: 147.5795 - val_mean_squared_error: 147.5795\n",
      "Epoch 76/100\n",
      " - 0s - loss: 48.5571 - mean_squared_error: 48.5571 - val_loss: 147.7250 - val_mean_squared_error: 147.7250\n",
      "Epoch 77/100\n",
      " - 0s - loss: 47.3828 - mean_squared_error: 47.3828 - val_loss: 145.1095 - val_mean_squared_error: 145.1095\n",
      "Epoch 78/100\n",
      " - 0s - loss: 46.9756 - mean_squared_error: 46.9756 - val_loss: 140.5135 - val_mean_squared_error: 140.5135\n",
      "Epoch 79/100\n",
      " - 0s - loss: 46.8217 - mean_squared_error: 46.8217 - val_loss: 148.8630 - val_mean_squared_error: 148.8630\n",
      "Epoch 80/100\n",
      " - 0s - loss: 46.3460 - mean_squared_error: 46.3460 - val_loss: 143.5020 - val_mean_squared_error: 143.5020\n",
      "Epoch 81/100\n",
      " - 0s - loss: 46.4629 - mean_squared_error: 46.4629 - val_loss: 148.4158 - val_mean_squared_error: 148.4158\n",
      "Epoch 82/100\n",
      " - 0s - loss: 46.8710 - mean_squared_error: 46.8710 - val_loss: 149.3726 - val_mean_squared_error: 149.3726\n",
      "Epoch 83/100\n",
      " - 0s - loss: 45.9646 - mean_squared_error: 45.9646 - val_loss: 144.4145 - val_mean_squared_error: 144.4145\n",
      "Epoch 84/100\n",
      " - 0s - loss: 45.4351 - mean_squared_error: 45.4351 - val_loss: 147.7385 - val_mean_squared_error: 147.7385\n",
      "Epoch 85/100\n",
      " - 0s - loss: 45.8077 - mean_squared_error: 45.8077 - val_loss: 148.4785 - val_mean_squared_error: 148.4785\n",
      "Epoch 86/100\n",
      " - 0s - loss: 45.6528 - mean_squared_error: 45.6528 - val_loss: 146.2012 - val_mean_squared_error: 146.2012\n",
      "Epoch 87/100\n",
      " - 0s - loss: 45.3162 - mean_squared_error: 45.3162 - val_loss: 147.5703 - val_mean_squared_error: 147.5703\n",
      "Epoch 88/100\n",
      " - 0s - loss: 45.7347 - mean_squared_error: 45.7347 - val_loss: 145.4268 - val_mean_squared_error: 145.4268\n",
      "Epoch 89/100\n",
      " - 0s - loss: 44.6321 - mean_squared_error: 44.6321 - val_loss: 144.9121 - val_mean_squared_error: 144.9121\n",
      "Epoch 90/100\n",
      " - 0s - loss: 44.5134 - mean_squared_error: 44.5134 - val_loss: 140.7824 - val_mean_squared_error: 140.7824\n",
      "Epoch 91/100\n",
      " - 0s - loss: 45.1223 - mean_squared_error: 45.1223 - val_loss: 143.2754 - val_mean_squared_error: 143.2754\n",
      "Epoch 92/100\n",
      " - 0s - loss: 44.1501 - mean_squared_error: 44.1501 - val_loss: 151.4047 - val_mean_squared_error: 151.4047\n",
      "Epoch 93/100\n",
      " - 0s - loss: 43.8151 - mean_squared_error: 43.8151 - val_loss: 143.1717 - val_mean_squared_error: 143.1717\n",
      "Epoch 94/100\n",
      " - 0s - loss: 43.4806 - mean_squared_error: 43.4806 - val_loss: 148.0813 - val_mean_squared_error: 148.0813\n",
      "Epoch 95/100\n",
      " - 1s - loss: 43.4253 - mean_squared_error: 43.4253 - val_loss: 142.0470 - val_mean_squared_error: 142.0470\n",
      "Epoch 96/100\n",
      " - 0s - loss: 44.2388 - mean_squared_error: 44.2388 - val_loss: 141.3249 - val_mean_squared_error: 141.3249\n",
      "Epoch 97/100\n",
      " - 0s - loss: 43.3507 - mean_squared_error: 43.3507 - val_loss: 148.6604 - val_mean_squared_error: 148.6604\n",
      "Epoch 98/100\n",
      " - 0s - loss: 42.8673 - mean_squared_error: 42.8673 - val_loss: 151.1794 - val_mean_squared_error: 151.1794\n",
      "Epoch 99/100\n",
      " - 0s - loss: 42.8111 - mean_squared_error: 42.8111 - val_loss: 141.3010 - val_mean_squared_error: 141.3010\n",
      "Epoch 100/100\n",
      " - 0s - loss: 42.8213 - mean_squared_error: 42.8213 - val_loss: 142.8614 - val_mean_squared_error: 142.8614\n"
     ]
    }
   ],
   "source": [
    "# fit the model\n",
    "history = model.fit(predictors_norm, target, validation_split=0.3, epochs=100, verbose=2)"
   ]
  },
  {
   "cell_type": "code",
   "execution_count": 46,
   "metadata": {},
   "outputs": [],
   "source": [
    "df1 = pd.DataFrame(history.history['mean_squared_error'])"
   ]
  },
  {
   "cell_type": "code",
   "execution_count": 47,
   "metadata": {},
   "outputs": [
    {
     "data": {
      "text/plain": [
       "0    55.02798\n",
       "dtype: float64"
      ]
     },
     "execution_count": 47,
     "metadata": {},
     "output_type": "execute_result"
    }
   ],
   "source": [
    "df1.mean(axis = 0)"
   ]
  },
  {
   "cell_type": "code",
   "execution_count": 48,
   "metadata": {},
   "outputs": [
    {
     "data": {
      "text/plain": [
       "0    8.265335\n",
       "dtype: float64"
      ]
     },
     "execution_count": 48,
     "metadata": {},
     "output_type": "execute_result"
    }
   ],
   "source": [
    "df1.std(axis = 0)"
   ]
  },
  {
   "cell_type": "markdown",
   "metadata": {},
   "source": [
    "List of 50 MSE after 3 Hidden layers"
   ]
  },
  {
   "cell_type": "code",
   "execution_count": 49,
   "metadata": {},
   "outputs": [
    {
     "data": {
      "text/plain": [
       "<bound method NDFrame.describe of             0\n",
       "0   72.954730\n",
       "1   72.163622\n",
       "2   71.730810\n",
       "3   70.731461\n",
       "4   70.241527\n",
       "..        ...\n",
       "95  44.238791\n",
       "96  43.350718\n",
       "97  42.867290\n",
       "98  42.811127\n",
       "99  42.821260\n",
       "\n",
       "[100 rows x 1 columns]>"
      ]
     },
     "execution_count": 49,
     "metadata": {},
     "output_type": "execute_result"
    }
   ],
   "source": [
    "df1.describe"
   ]
  },
  {
   "cell_type": "markdown",
   "metadata": {
    "button": false,
    "deletable": true,
    "new_sheet": false,
    "run_control": {
     "read_only": false
    }
   },
   "source": [
    "## Results\n",
    "**Mean** = `38.723751`\n",
    "**Standard Deviation** = `5.022587`"
   ]
  }
 ],
 "metadata": {
  "kernelspec": {
   "display_name": "Python",
   "language": "python",
   "name": "conda-env-python-py"
  },
  "language_info": {
   "codemirror_mode": {
    "name": "ipython",
    "version": 3
   },
   "file_extension": ".py",
   "mimetype": "text/x-python",
   "name": "python",
   "nbconvert_exporter": "python",
   "pygments_lexer": "ipython3",
   "version": "3.6.11"
  }
 },
 "nbformat": 4,
 "nbformat_minor": 4
}
